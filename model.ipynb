{
 "cells": [
  {
   "cell_type": "code",
   "execution_count": 5,
   "metadata": {},
   "outputs": [],
   "source": [
    "from flask import Flask, request, jsonify\n",
    "import base64\n",
    "import tempfile\n",
    "import os\n",
    "from bob.io.audio import reader\n",
    "from utils import configuration, silence_detection"
   ]
  },
  {
   "cell_type": "code",
   "execution_count": 6,
   "metadata": {},
   "outputs": [],
   "source": [
    "config = configuration()"
   ]
  },
  {
   "cell_type": "code",
   "execution_count": null,
   "metadata": {},
   "outputs": [],
   "source": [
    "class iVector_model:\n",
    "    def __init__(self,mfcc_feat):\n",
    "        self.fubm = open(config['model_files']['full_GMM-UBM']).read()\n",
    "        self.ivector_extractor = open(config['model_files']['iVector']).read()\n",
    "        \n",
    "        self.iVector = bob.kaldi.ivector_extract(mfcc_feat, \n",
    "                                            fubm,\n",
    "                                            ivector_extractor,\n",
    "                                            num_gselect=config['iVector_extract_params']['num_gselect'],\n",
    "                                            min_post=config['iVector_extract_params']['min_post'],\n",
    "                                            posterior_scale=config['iVector_extract_params']['posterior_scale'])\n",
    "\n",
    "    def enroll(self,enroll_features):\n",
    "        '''\n",
    "        Args - self, enroll_features\n",
    "                     enroll_features - MFCC features extracted with expaneded dimensions via np.expand_dims(,axis=0)\n",
    "        Return - speaker model\n",
    "        '''\n",
    "        return self.iVector.enroll(enroll_features)\n",
    "\n",
    "    def score(self,model,probe):\n",
    "        '''\n",
    "        Args - self, model , probe\n",
    "                     model - Model of the speaker from the enroll function (from the already enrolled speaker)\n",
    "                     probe - Projection of the feature array from the speech utterance for verification\n",
    "\n",
    "        Return - Cosine Similarity Score beween the model and probe\n",
    "        '''\n",
    "        return self.iVector.score(model,probe)"
   ]
  },
  {
   "cell_type": "code",
   "execution_count": 6,
   "metadata": {},
   "outputs": [],
   "source": [
    "def decode_base64(base64string):\n",
    "    b64_byte = base64.b64decode(base64string)\n",
    "    wav_temp = tempfile.TemporaryFile()\n",
    "    \n",
    "    with open(\"./\" + str(wav_temp.name) ,'wb') as wav: \n",
    "        wav.write(b64_byte)\n",
    "    \n",
    "    data = bob.io.audio.reader(str(wav_temp.name))\n",
    "    \n",
    "    if data.rate!=16000:\n",
    "        return {'status':'fail',\n",
    "                'msg':'acceptable sampling rate is 16kHz',\n",
    "                'wav_temp' :wav_temp, \n",
    "                'data' : data}\n",
    "\n",
    "    elif data.load().shape[0] != 1:\n",
    "        return {'status' : 'fail',\n",
    "                'msg' : 'mono channel audio required',\n",
    "                'wav_temp' : wav_temp,\n",
    "                'data' : data }\n",
    "    \n",
    "\n",
    "    return {'status': 'pass',\n",
    "            'msg' : 'acceptable audio',\n",
    "            'wav_temp' : wav_temp,\n",
    "            'data' : data }"
   ]
  },
  {
   "cell_type": "code",
   "execution_count": null,
   "metadata": {},
   "outputs": [],
   "source": [
    "def verifySpeaker(base64string):\n",
    "    [status,msg,_,_].values() = decode_base64(base64string)\n",
    "    \n",
    "    if status = 'fail':\n",
    "        return {'status': status,'msg' : msg}\n",
    "    \n",
    "\n",
    "    \n",
    "    \n",
    "    \n",
    "    "
   ]
  }
 ],
 "metadata": {
  "kernelspec": {
   "display_name": "Python (bob_kaldi)",
   "language": "python",
   "name": "bob_kaldi"
  },
  "language_info": {
   "codemirror_mode": {
    "name": "ipython",
    "version": 3
   },
   "file_extension": ".py",
   "mimetype": "text/x-python",
   "name": "python",
   "nbconvert_exporter": "python",
   "pygments_lexer": "ipython3",
   "version": "3.7.10"
  }
 },
 "nbformat": 4,
 "nbformat_minor": 4
}
