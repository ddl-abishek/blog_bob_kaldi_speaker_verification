{
 "cells": [
  {
   "cell_type": "code",
   "execution_count": 40,
   "metadata": {},
   "outputs": [],
   "source": [
    "from flask import Flask, request, jsonify\n",
    "import base64\n",
    "import tempfile\n",
    "import os\n",
    "from bob.io.audio import reader\n",
    "from utils import configuration, silence_detection\n",
    "import numpy as np\n",
    "from datetime import datetime\n",
    "from scipy.spatial import distance"
   ]
  },
  {
   "cell_type": "code",
   "execution_count": 6,
   "metadata": {},
   "outputs": [],
   "source": [
    "config = configuration()"
   ]
  },
  {
   "cell_type": "code",
   "execution_count": null,
   "metadata": {},
   "outputs": [],
   "source": [
    "'''\n",
    "sample json\n",
    " {\n",
    "     task : 'enroll/verify',\n",
    "     aud_b64 : 'base64 audio of speech',\n",
    "     spkr_id : '16bit hash of speaker id'\n",
    " }\n",
    "'''"
   ]
  },
  {
   "cell_type": "code",
   "execution_count": null,
   "metadata": {},
   "outputs": [],
   "source": [
    "class iVector_model:\n",
    "    def __init__(self,data):\n",
    "        self.data = data\n",
    "        self.fubm = open(config['model_files']['full_GMM-UBM']).read()\n",
    "        self.ivector_extractor = open(config['model_files']['iVector']).read()\n",
    "\n",
    "    def get_mfcc(self):\n",
    "        norm_speech = self.data.load()[0]/2**15\n",
    "        speech_segs = silence_detection(self.data)\n",
    "        \n",
    "        mfcc = []\n",
    "        for seg in speech_segs:\n",
    "            seg_mfcc = bob.kaldi.mfcc(norm_speech[seg[0]:seg[1]])\n",
    "            mfcc.append(seg_mfcc)\n",
    "\n",
    "        mfcc = np.vstack(mfcc)\n",
    "        returrn mfcc\n",
    "        \n",
    "    def get_iVector(self):\n",
    "        mfcc = self.get_mfcc()\n",
    "        if mfcc_feat.shape[0] > 2000+1: # utterances longer than 30s are trimmed to 30s\n",
    "            mfcc_feat = mfcc_feat[0,2000+1,:]\n",
    "        \n",
    "        iVector = bob.kaldi.ivector_extract(self.mfcc_feat,\n",
    "                                            self.fubm,\n",
    "                                            self.ivector_extractor,\n",
    "                                            num_gselect=config['iVector_extract_params']['num_gselect'],\n",
    "                                            min_post=config['iVector_extract_params']['min_post'],\n",
    "                                            posterior_scale=config['iVector_extract_params']['posterior_scale'])\n",
    "        return iVector\n",
    "\n",
    "    def enroll(self,spkr_id):\n",
    "        if not(spkr_id in os.listdir(config['enrolled_speakers']['path'])):\n",
    "            iVector = self.get_iVector()\n",
    "            \n",
    "            os.makedirs(config['enrolled_speakers']['path'])\n",
    "            spkr_iVec_path = os.path.join(config['enrolled_speakers']['path'],f'{spkr_id}_{str(datetime.now())}_iVec.npy')\n",
    "            np.save(os.path.join(spkr_iVec_path,iVector)\n",
    "            return True\n",
    "            \n",
    "        else:\n",
    "            return False\n",
    "\n",
    "    def verify(self,spkr_id):\n",
    "        if spkr in os.listdir(config['enrolled_speakers']['path']):\n",
    "            spkr_iVec_path = os.path.join(config['enrolled_speakers']['path'],\n",
    "                                          os.listdir(config['enrolled_speakers']['path'])[0]) # default first iVec file in dir\n",
    "            enroll_iVector = np.load(spkr_iVec_path)\n",
    "            verify_iVector = self.get_iVector()\n",
    "                    \n",
    "            return 1-distance.cosine(enroll_iVector,verify_iVector)\n",
    "        else:\n",
    "            return False"
   ]
  },
  {
   "cell_type": "code",
   "execution_count": 6,
   "metadata": {},
   "outputs": [],
   "source": [
    "def decode_base64(base64string):\n",
    "    b64_byte = base64.b64decode(base64string)\n",
    "    wav_temp = tempfile.TemporaryFile()\n",
    "    \n",
    "    with open(\"./\" + str(wav_temp.name) ,'wb') as wav: \n",
    "        wav.write(b64_byte)\n",
    "    \n",
    "    data = bob.io.audio.reader(str(wav_temp.name))\n",
    "    \n",
    "    if data.rate!=16000:\n",
    "        return {'status':'fail',\n",
    "                'msg':'acceptable sampling rate is 16kHz',\n",
    "                'wav_temp' :wav_temp, \n",
    "                'data' : data}\n",
    "\n",
    "    elif data.load().shape[0] != 1:\n",
    "        return {'status' : 'fail',\n",
    "                'msg' : 'mono channel audio required',\n",
    "                'wav_temp' : wav_temp,\n",
    "                'data' : data }\n",
    "    \n",
    "\n",
    "    return {'status': 'pass',\n",
    "            'msg' : 'acceptable audio',\n",
    "            'wav_temp' : wav_temp,\n",
    "            'data' : dat ccca }"
   ]
  },
  {
   "cell_type": "code",
   "execution_count": null,
   "metadata": {},
   "outputs": [],
   "source": [
    "def verifySpeaker(payload):\n",
    "    [task,aud_b64,spkr_id] = paylod.values()\n",
    "    [status,msg,_,data].values() = decode_base64(base64string)\n",
    "    \n",
    "    if status = 'fail':\n",
    "        return {'status': status,'msg' : msg}\n",
    "    \n",
    "    if task == 'enroll':\n",
    "        model = iVector_model(data)\n",
    "        model.enroll(spkr_id)\n",
    "    \n",
    "    elif task == 'verify':\n",
    "    \n",
    "    else:\n",
    "        return {}\n",
    "   \n",
    "     task : 'enroll/verify',\n",
    "     aud_b64 : 'base64 audio of speech',\n",
    "     spkr_id : '16bit hash of speaker id'\n",
    "\n",
    "    \n",
    "    \n",
    "    \n",
    "    "
   ]
  },
  {
   "cell_type": "code",
   "execution_count": 15,
   "metadata": {},
   "outputs": [],
   "source": [
    "import numpy as np\n",
    "from datetime import datetime"
   ]
  },
  {
   "cell_type": "code",
   "execution_count": 16,
   "metadata": {},
   "outputs": [],
   "source": [
    "arr = np.ones((12,12))\n",
    "path = './enrolled_speakers/spkr_r12079'\n",
    "# os.makedirs(path)\n",
    "np.save(os.path.join(path,f'r12079_{str(datetime.now())}_iVec.npy'),arr)"
   ]
  },
  {
   "cell_type": "code",
   "execution_count": 18,
   "metadata": {},
   "outputs": [
    {
     "data": {
      "text/plain": [
       "True"
      ]
     },
     "execution_count": 18,
     "metadata": {},
     "output_type": "execute_result"
    }
   ],
   "source": [
    "'spkr_r12079' in os.listdir('./enrolled_speakers/') "
   ]
  },
  {
   "cell_type": "code",
   "execution_count": null,
   "metadata": {},
   "outputs": [],
   "source": [
    "payload = {''}"
   ]
  }
 ],
 "metadata": {
  "kernelspec": {
   "display_name": "Python (bob_kaldi)",
   "language": "python",
   "name": "bob_kaldi"
  },
  "language_info": {
   "codemirror_mode": {
    "name": "ipython",
    "version": 3
   },
   "file_extension": ".py",
   "mimetype": "text/x-python",
   "name": "python",
   "nbconvert_exporter": "python",
   "pygments_lexer": "ipython3",
   "version": "3.7.10"
  }
 },
 "nbformat": 4,
 "nbformat_minor": 4
}
