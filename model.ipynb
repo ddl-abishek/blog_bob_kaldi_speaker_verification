{
 "cells": [
  {
   "cell_type": "code",
   "execution_count": 1,
   "metadata": {},
   "outputs": [],
   "source": [
    "from flask import Flask, request, jsonify\n",
    "import base64\n",
    "import tempfile\n",
    "import os\n",
    "from bob.io.audio import reader"
   ]
  },
  {
   "cell_type": "code",
   "execution_count": null,
   "metadata": {},
   "outputs": [],
   "source": [
    "def decode_base64(base64string):\n",
    "    b64_byte = base64.b64decode(base64string)\n",
    "    wav_temp = tempfile.TemporaryFile()\n",
    "    \n",
    "    with open(\"./\" + str(wav_temp.name) ,'wb') as wav: \n",
    "        wav.write(b64_byte)\n",
    "    \n",
    "    data = bob.io.audio.reader(str(wav_temp.name))\n",
    "    \n",
    "    if data.rate!=16000:\n",
    "        return {'status':'fail',\n",
    "                'msg':'acceptable sampling rate is 16kHz',\n",
    "                'wav_temp' :wav_temp, \n",
    "                'data' : data}\n",
    "\n",
    "    elif data.load().shape[0] != 1:\n",
    "        return {'status' : 'fail',\n",
    "                'msg' : 'mono channel audio required',\n",
    "                'wav_temp' : wav_temp,\n",
    "                'data' : data }\n",
    "    \n",
    "\n",
    "    return {'status': 'pass',\n",
    "            'msg' : 'acceptable audio',\n",
    "            'wav_temp' : wav_temp,\n",
    "            'data' : data }"
   ]
  },
  {
   "cell_type": "code",
   "execution_count": null,
   "metadata": {},
   "outputs": [],
   "source": [
    "def verifySpeaker(base64string):\n",
    "    task      = request.get_json()['task']\n",
    "    aud_b64   = request.get_json()['audio']\n",
    "    spkr_id   = request.get_json()['speakerId']\n",
    "    \n",
    "    try:\n",
    "        image = get_image(base64string)\n",
    "    except:\n",
    "        return jsonify(error=\"improper base64 encoding\", message=\"failure!\")\n",
    "    \n",
    "    \n",
    "    \n",
    "    "
   ]
  }
 ],
 "metadata": {
  "kernelspec": {
   "display_name": "Python 3",
   "language": "python",
   "name": "python3"
  },
  "language_info": {
   "codemirror_mode": {
    "name": "ipython",
    "version": 3
   },
   "file_extension": ".py",
   "mimetype": "text/x-python",
   "name": "python",
   "nbconvert_exporter": "python",
   "pygments_lexer": "ipython3",
   "version": "3.6.9"
  }
 },
 "nbformat": 4,
 "nbformat_minor": 4
}
